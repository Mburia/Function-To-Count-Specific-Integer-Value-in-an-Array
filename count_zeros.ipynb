{
  "nbformat": 4,
  "nbformat_minor": 0,
  "metadata": {
    "colab": {
      "name": "count_zeros.ipynb",
      "provenance": []
    },
    "kernelspec": {
      "name": "python3",
      "display_name": "Python 3"
    }
  },
  "cells": [
    {
      "cell_type": "markdown",
      "metadata": {
        "id": "8qymTfMadjPE"
      },
      "source": [
        "# Game Of Learners Clinic\r\n",
        "A Tech Interview Prep program to help students from all walks of life to level up on\r\n",
        "data structures, algorithms, system design and other Computer Science Fundamentals.\r\n",
        "## Entry Challenge v.2\r\n",
        "Write a function CountZeros(A) that takes in an array of integers A, and returns the number of 0's in that array. For example, given [1, 0, 5, 6, 0, 2], the function/method should return 2."
      ]
    },
    {
      "cell_type": "markdown",
      "metadata": {
        "id": "Pachm1PqfKz4"
      },
      "source": [
        "## Solution\r\n",
        "To tackle this challenge we shall attempt different approaches to find an optimum by execution speed and code length"
      ]
    },
    {
      "cell_type": "markdown",
      "metadata": {
        "id": "1sUFhpCpgXcF"
      },
      "source": [
        "Imports"
      ]
    },
    {
      "cell_type": "code",
      "metadata": {
        "id": "jAmyux0MgR9L"
      },
      "source": [
        "# The below imports are Python Libraries that will enable use to manipulate data\r\n",
        "\r\n",
        "# Pandas is mainly used for data analysis\r\n",
        "import pandas as pd\r\n",
        "# NumPy is a Python library used for working with arrays\r\n",
        "import numpy as np\r\n",
        "# Timeit is a Python library to measure the execution time taken by the given code snippet\r\n",
        "import timeit "
      ],
      "execution_count": 1,
      "outputs": []
    },
    {
      "cell_type": "markdown",
      "metadata": {
        "id": "ZsS9F2IghI4Z"
      },
      "source": [
        "Array"
      ]
    },
    {
      "cell_type": "code",
      "metadata": {
        "colab": {
          "base_uri": "https://localhost:8080/"
        },
        "id": "18Wgrzz5eZ-9",
        "outputId": "674d6791-104a-4312-d706-ec2480010a7e"
      },
      "source": [
        "# Lets create arrays and name it them: These are the arrays we shall use to test our functions\r\n",
        "\r\n",
        "A = np.array([1, 0, 5, 6, 0, 2]) # 0D Array\r\n",
        "B = np.array([[[1, 0, 3], [4, 5, 0]], [[1, 2, 3], [0, 5, 6]]]) # A multi-dimensional array(3D)\r\n",
        "\r\n",
        "# Let's Call out the arrays we've created \r\n",
        "print(\"A: \\n\",A,'\\n'*2,\"B: \\n\", B)\r\n"
      ],
      "execution_count": 2,
      "outputs": [
        {
          "output_type": "stream",
          "text": [
            "A: \n",
            " [1 0 5 6 0 2] \n",
            "\n",
            " B: \n",
            " [[[1 0 3]\n",
            "  [4 5 0]]\n",
            "\n",
            " [[1 2 3]\n",
            "  [0 5 6]]]\n"
          ],
          "name": "stdout"
        }
      ]
    },
    {
      "cell_type": "markdown",
      "metadata": {
        "id": "zoug-f4xgGPF"
      },
      "source": [
        "### Approach 1:\r\n",
        "In this approach we shall directly count the number of 0's in the array using a Logic operator"
      ]
    },
    {
      "cell_type": "code",
      "metadata": {
        "colab": {
          "base_uri": "https://localhost:8080/"
        },
        "id": "mpExzAwwncCm",
        "outputId": "e8541151-3eaa-41d3-e9d4-e0d741b6dc63"
      },
      "source": [
        "# This code uses the Logic operator (==) to check where the integer in an array(A) is zero, then returns the total for such occurences\r\n",
        "print(np.count_nonzero(A==0))"
      ],
      "execution_count": 3,
      "outputs": [
        {
          "output_type": "stream",
          "text": [
            "2\n"
          ],
          "name": "stdout"
        }
      ]
    },
    {
      "cell_type": "code",
      "metadata": {
        "colab": {
          "base_uri": "https://localhost:8080/"
        },
        "id": "5u8-qY89i8qE",
        "outputId": "e4daa229-ca8c-4f14-c97e-63ddcba7342d"
      },
      "source": [
        "# We shall then create a function named CountZeros then fit the code in it:\r\n",
        "\r\n",
        "def CountZeros(A):          # Where A represents the name of the array to check\r\n",
        "    number_of_zeros = np.count_nonzero(A == 0)\r\n",
        "    return number_of_zeros  # Output after counting zeros in array\r\n",
        "\r\n",
        "print(\"Number of 0's: \",CountZeros(B))\r\n",
        "\r\n",
        "# Let's Check how fast this function is:\r\n",
        "%timeit CountZeros(B)"
      ],
      "execution_count": 4,
      "outputs": [
        {
          "output_type": "stream",
          "text": [
            "Number of 0's:  3\n",
            "The slowest run took 19.13 times longer than the fastest. This could mean that an intermediate result is being cached.\n",
            "1000000 loops, best of 3: 1.81 µs per loop\n"
          ],
          "name": "stdout"
        }
      ]
    },
    {
      "cell_type": "markdown",
      "metadata": {
        "id": "MNLOo3fo4fUI"
      },
      "source": [
        "### Approach 2:\r\n",
        "In this approach we shall subtract the number of integers that are not 0's from the size of the array to get the number of 0's."
      ]
    },
    {
      "cell_type": "code",
      "metadata": {
        "colab": {
          "base_uri": "https://localhost:8080/"
        },
        "id": "6iISwo8bASqW",
        "outputId": "6af03145-6210-48a9-e5c2-0d99807d3d59"
      },
      "source": [
        "# We shall create the function then test it out on array B since it is multidimensional\r\n",
        "\r\n",
        "def CountZeros(A):        # Where A represents the name of the array to check\r\n",
        "  number_of_zeros = A.size - np.count_nonzero(A) # Where we subtract non-zeros from lenth of array\r\n",
        "  return number_of_zeros  # Output after counting 0's in array\r\n",
        "\r\n",
        "print(\"Number of 0's:\",CountZeros(B))\r\n",
        "\r\n",
        "# Let's Check how fast this function is:\r\n",
        "%timeit CountZeros(B)"
      ],
      "execution_count": 5,
      "outputs": [
        {
          "output_type": "stream",
          "text": [
            "Number of 0's: 3\n",
            "The slowest run took 13.25 times longer than the fastest. This could mean that an intermediate result is being cached.\n",
            "1000000 loops, best of 3: 847 ns per loop\n"
          ],
          "name": "stdout"
        }
      ]
    },
    {
      "cell_type": "markdown",
      "metadata": {
        "id": "6UD7yZT5E1HD"
      },
      "source": [
        "## Results\r\n",
        "- Approach 1 executed in 1.81 µs per loop (1.81 * 10*-6 Seconds)\r\n",
        "- Approach 2 executed in 847 ns per loop (847 * 10*-9 Seconds)\r\n",
        "\r\n",
        "\r\n",
        "Approach 2 is 0.48 times faster than Approach 1 even though it is the indirect approach.\r\n",
        "\r\n",
        "Both approaches work on multi-dimensional and zero dimensional arrays."
      ]
    },
    {
      "cell_type": "code",
      "metadata": {
        "id": "pwGalMIQOLQg"
      },
      "source": [
        ""
      ],
      "execution_count": null,
      "outputs": []
    }
  ]
}